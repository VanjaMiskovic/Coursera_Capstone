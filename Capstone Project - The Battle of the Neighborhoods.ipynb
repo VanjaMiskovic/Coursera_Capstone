{
    "cells": [
        {
            "cell_type": "markdown",
            "metadata": {
                "collapsed": true
            },
            "source": "# Coursera Capstone Project \u2014 The Battle of Neighbourhoods\n# London's neighborhoods week 1"
        },
        {
            "cell_type": "markdown",
            "metadata": {},
            "source": "## 1. Introduction"
        },
        {
            "cell_type": "markdown",
            "metadata": {},
            "source": "London, the capital and the largest city of England and the United Kingdom is considered to be one of the world's most important global cities. It is often called the most investment-friendly, and most-popular-for-work city. Around 36.7% of people who live in London are foreign-born which makes London the second city in the world by immigration population, right after New York City. \nLondon has a diverse range of people and cultures, and more than 300 languages are spoken in the region. Greater London estimated population in 2018 was more than 8 milion, the third most populous of any city in Europe, and accounts for 13.4% of the UK population.\nAnd it continues to an experience increase in population, and there\u2019s always more things to do and reasons to move there.\n\nAll of the above makes London a highly desirable city, especially among the younger population.\n"
        },
        {
            "cell_type": "markdown",
            "metadata": {},
            "source": "### Problem Description"
        },
        {
            "cell_type": "markdown",
            "metadata": {},
            "source": "Just moving to London itself can be stressful if not done right. The same can be said about living in London, traveling, and finding entertainment. The best way to make your transition to London easier is to choose the right neighborhood to live in. This is not an easy task, especially if you are new in the city. <br>\n\nIn Greater London, there are 32 local authority districts, (known as boroughs) which were all officially created on 1 April 1965. Out of them, 12 are part of Inner London, the other 20 are Outer London boroughs and the City of London is not classed as a London borough at all. Each of the boroughs is divided into wards. All of these neighborhoods are unique and which one is the best for you depend on your preferences.\n\n\nHowever, very often, given the far distance of London from your current place you, unfortunately, must make a descion based on the information that you can find online, without paying the visit.\n\nIn this specific situation a young couple decided to move to London, the girl is a writer and guy has an idea to start his own moving company.\nSince non of them ever visited London they are searching for a way to choose the best neighborhood for them to move. They are mainly interested in Inner London boroughs and the City of London. \n\nList of Inner London boroughs:\n1. Camden\n2. Greenwich\n3. Hackney\n4. Hammersmith and Fulham\n5. Islington\n6. Kensington and Chelsea\n7. Lambeth\n8. Lewisham\n9. Southwark\n10. Tower Hamlets\n11. Wandsworth\n12. Westminster\n\n Since their jobs are not tied to one specific location they decided to make their decision based on the following information:\n \n\n1. Safety of each ward. Where is the lowest crime rate?\n2. Employment rate.\n3. The proportion of population of working-age.\n4. Which venues are the most common in each ward? They would like to live in a neighborhood that has a good choice of restaurants and green areas.\n5. And finally the general well being of people living there. \n\n\nConsidering stated above the main goal of this project is to explore and compare London's neighborhoods and provide the best solution for this specific problem."
        },
        {
            "cell_type": "markdown",
            "metadata": {},
            "source": "### Target audience  "
        },
        {
            "cell_type": "markdown",
            "metadata": {},
            "source": "Except for this specific couple, the information provided by this report will be useful for people who are interested in moving to London for the first time and they are not familiar with London neighborhoods. "
        },
        {
            "cell_type": "markdown",
            "metadata": {},
            "source": "## 2. Data description"
        },
        {
            "cell_type": "markdown",
            "metadata": {},
            "source": "To consider the objective stated above, diffrent data sources used for the analysis are listed bellow. "
        },
        {
            "cell_type": "markdown",
            "metadata": {},
            "source": "**London wards**\n\nThe following link will be used to get the list of wards in London together with wards geographical cordinates:\n\nhttp://geoportal.statistics.gov.uk/datasets/wards-december-2017-full-extent-boundaries-in-uk-wgs84/data\n\nIn the csv file we have list of all wards, with their postcodes, and geospatial data. This data will be further filltred to Wards that are part of Inner London Borough and London City. \n\n**Crime rate, Employment rate, working age population and people well being**\n\nWe will use London datastore (https://data.london.gov.uk/) to get data on London cirme and empolyment rates, proportion of population of working-age as well as the well beeing of people.\n\n*Crime rate, Employment rate, working age population* source: in the excel file *ward-profiles-excel-version.xls* downloaded from: https://data.london.gov.uk/dataset/ward-profiles-and-atlas; we can find information about crime, employment rate and working age population for each ward.\n\n*Pople well being* source: In the excel file *london-ward-well-being-probability-scores.xls* downloaded from https://data.london.gov.uk/dataset/london-ward-well-being-scores we can find infomartion about Subjective well-being average score from 2013 that is calculated based on 12 diffrent measures. \n\n**London Venues**\n\nTo explore restaurants and green areas in each borough, we will access data through FourSquare API interface and arrange them as a dataframe.\n\nWe will use the final dataframe, that contains all the information, for data visualisation and clustering."
        },
        {
            "cell_type": "code",
            "execution_count": null,
            "metadata": {},
            "outputs": [],
            "source": ""
        },
        {
            "cell_type": "code",
            "execution_count": null,
            "metadata": {},
            "outputs": [],
            "source": ""
        }
    ],
    "metadata": {
        "kernelspec": {
            "display_name": "Python 3.6",
            "language": "python",
            "name": "python3"
        },
        "language_info": {
            "codemirror_mode": {
                "name": "ipython",
                "version": 3
            },
            "file_extension": ".py",
            "mimetype": "text/x-python",
            "name": "python",
            "nbconvert_exporter": "python",
            "pygments_lexer": "ipython3",
            "version": "3.6.9"
        }
    },
    "nbformat": 4,
    "nbformat_minor": 1
}